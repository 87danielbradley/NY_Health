{
 "cells": [
  {
   "cell_type": "code",
   "execution_count": 1,
   "metadata": {},
   "outputs": [],
   "source": [
    "import csv\n",
    "import pandas as pd\n",
    "import numpy as np\n",
    "import os\n",
    "import json"
   ]
  },
  {
   "cell_type": "code",
   "execution_count": 2,
   "metadata": {},
   "outputs": [],
   "source": [
    "file_path=\"Community_Health_Indicator_Reports__CHIRS___Latest_Data.csv\"\n",
    "\n",
    "health_stats=pd.read_csv(file_path)"
   ]
  },
  {
   "cell_type": "code",
   "execution_count": 3,
   "metadata": {
    "scrolled": true
   },
   "outputs": [
    {
     "output_type": "execute_result",
     "data": {
      "text/plain": "       County Name  Health Topic Number       Health Topic Indicator Number  \\\n0    Mohawk Valley                    1  Cancer Indicators               g1   \n1    North Country                    1  Cancer Indicators               g1   \n2  Tug Hill Seaway                    1  Cancer Indicators               g1   \n3       Central NY                    1  Cancer Indicators               g1   \n4    Southern Tier                    1  Cancer Indicators               g1   \n\n                               Indicator  Event Count  \\\n0  All cancer incidence rate per 100,000       5124.0   \n1  All cancer incidence rate per 100,000       5993.0   \n2  All cancer incidence rate per 100,000       4034.0   \n3  All cancer incidence rate per 100,000      18896.0   \n4  All cancer incidence rate per 100,000       8183.0   \n\n   Average Number of Denominator Measure Unit  Percent/Rate  \\\n0                       264241.0         Rate         646.4   \n1                       306231.0         Rate         652.3   \n2                       257610.0         Rate         522.0   \n3                      1025519.0         Rate         614.2   \n4                       449813.0         Rate         606.4   \n\n   Lower Limit of 95% CI  Upper Limit of 95% CI Data Comments Quartile  \\\n0                    NaN                    NaN           NaN      NaN   \n1                    NaN                    NaN           NaN      NaN   \n2                    NaN                    NaN           NaN      NaN   \n3                    NaN                    NaN           NaN      NaN   \n4                    NaN                    NaN           NaN      NaN   \n\n  Data Years                             Data Source  Mapping Distribution  \\\n0  2010-2012  Cancer Registry Data as of April, 2015                   NaN   \n1  2010-2012  Cancer Registry Data as of April, 2015                   NaN   \n2  2010-2012  Cancer Registry Data as of April, 2015                   NaN   \n3  2010-2012  Cancer Registry Data as of April, 2015                   NaN   \n4  2010-2012  Cancer Registry Data as of April, 2015                   NaN   \n\n  Location  \n0      NaN  \n1      NaN  \n2      NaN  \n3      NaN  \n4      NaN  ",
      "text/html": "<div>\n<style scoped>\n    .dataframe tbody tr th:only-of-type {\n        vertical-align: middle;\n    }\n\n    .dataframe tbody tr th {\n        vertical-align: top;\n    }\n\n    .dataframe thead th {\n        text-align: right;\n    }\n</style>\n<table border=\"1\" class=\"dataframe\">\n  <thead>\n    <tr style=\"text-align: right;\">\n      <th></th>\n      <th>County Name</th>\n      <th>Health Topic Number</th>\n      <th>Health Topic</th>\n      <th>Indicator Number</th>\n      <th>Indicator</th>\n      <th>Event Count</th>\n      <th>Average Number of Denominator</th>\n      <th>Measure Unit</th>\n      <th>Percent/Rate</th>\n      <th>Lower Limit of 95% CI</th>\n      <th>Upper Limit of 95% CI</th>\n      <th>Data Comments</th>\n      <th>Quartile</th>\n      <th>Data Years</th>\n      <th>Data Source</th>\n      <th>Mapping Distribution</th>\n      <th>Location</th>\n    </tr>\n  </thead>\n  <tbody>\n    <tr>\n      <td>0</td>\n      <td>Mohawk Valley</td>\n      <td>1</td>\n      <td>Cancer Indicators</td>\n      <td>g1</td>\n      <td>All cancer incidence rate per 100,000</td>\n      <td>5124.0</td>\n      <td>264241.0</td>\n      <td>Rate</td>\n      <td>646.4</td>\n      <td>NaN</td>\n      <td>NaN</td>\n      <td>NaN</td>\n      <td>NaN</td>\n      <td>2010-2012</td>\n      <td>Cancer Registry Data as of April, 2015</td>\n      <td>NaN</td>\n      <td>NaN</td>\n    </tr>\n    <tr>\n      <td>1</td>\n      <td>North Country</td>\n      <td>1</td>\n      <td>Cancer Indicators</td>\n      <td>g1</td>\n      <td>All cancer incidence rate per 100,000</td>\n      <td>5993.0</td>\n      <td>306231.0</td>\n      <td>Rate</td>\n      <td>652.3</td>\n      <td>NaN</td>\n      <td>NaN</td>\n      <td>NaN</td>\n      <td>NaN</td>\n      <td>2010-2012</td>\n      <td>Cancer Registry Data as of April, 2015</td>\n      <td>NaN</td>\n      <td>NaN</td>\n    </tr>\n    <tr>\n      <td>2</td>\n      <td>Tug Hill Seaway</td>\n      <td>1</td>\n      <td>Cancer Indicators</td>\n      <td>g1</td>\n      <td>All cancer incidence rate per 100,000</td>\n      <td>4034.0</td>\n      <td>257610.0</td>\n      <td>Rate</td>\n      <td>522.0</td>\n      <td>NaN</td>\n      <td>NaN</td>\n      <td>NaN</td>\n      <td>NaN</td>\n      <td>2010-2012</td>\n      <td>Cancer Registry Data as of April, 2015</td>\n      <td>NaN</td>\n      <td>NaN</td>\n    </tr>\n    <tr>\n      <td>3</td>\n      <td>Central NY</td>\n      <td>1</td>\n      <td>Cancer Indicators</td>\n      <td>g1</td>\n      <td>All cancer incidence rate per 100,000</td>\n      <td>18896.0</td>\n      <td>1025519.0</td>\n      <td>Rate</td>\n      <td>614.2</td>\n      <td>NaN</td>\n      <td>NaN</td>\n      <td>NaN</td>\n      <td>NaN</td>\n      <td>2010-2012</td>\n      <td>Cancer Registry Data as of April, 2015</td>\n      <td>NaN</td>\n      <td>NaN</td>\n    </tr>\n    <tr>\n      <td>4</td>\n      <td>Southern Tier</td>\n      <td>1</td>\n      <td>Cancer Indicators</td>\n      <td>g1</td>\n      <td>All cancer incidence rate per 100,000</td>\n      <td>8183.0</td>\n      <td>449813.0</td>\n      <td>Rate</td>\n      <td>606.4</td>\n      <td>NaN</td>\n      <td>NaN</td>\n      <td>NaN</td>\n      <td>NaN</td>\n      <td>2010-2012</td>\n      <td>Cancer Registry Data as of April, 2015</td>\n      <td>NaN</td>\n      <td>NaN</td>\n    </tr>\n  </tbody>\n</table>\n</div>"
     },
     "metadata": {},
     "execution_count": 3
    }
   ],
   "source": [
    "health_stats.head()"
   ]
  },
  {
   "cell_type": "code",
   "execution_count": 4,
   "metadata": {},
   "outputs": [],
   "source": [
    "obs_stats=health_stats[health_stats['Indicator']=='Age-adjusted percentage of adults obese (BMI 30 or higher)']"
   ]
  },
  {
   "cell_type": "code",
   "execution_count": 5,
   "metadata": {
    "scrolled": true
   },
   "outputs": [
    {
     "output_type": "execute_result",
     "data": {
      "text/plain": "      County Name  Health Topic Number                    Health Topic  \\\n4821       Albany                   10  Obesity and Related Indicators   \n4822     Allegany                   10  Obesity and Related Indicators   \n4823       Broome                   10  Obesity and Related Indicators   \n4824  Cattaraugus                   10  Obesity and Related Indicators   \n4825       Cayuga                   10  Obesity and Related Indicators   \n\n     Indicator Number                                          Indicator  \\\n4821              g75  Age-adjusted percentage of adults obese (BMI 3...   \n4822              g75  Age-adjusted percentage of adults obese (BMI 3...   \n4823              g75  Age-adjusted percentage of adults obese (BMI 3...   \n4824              g75  Age-adjusted percentage of adults obese (BMI 3...   \n4825              g75  Age-adjusted percentage of adults obese (BMI 3...   \n\n      Event Count  Average Number of Denominator Measure Unit  Percent/Rate  \\\n4821          NaN                            NaN   Percentage          26.0   \n4822          NaN                            NaN   Percentage          30.6   \n4823          NaN                            NaN   Percentage          31.7   \n4824          NaN                            NaN   Percentage          33.5   \n4825          NaN                            NaN   Percentage          33.0   \n\n      Lower Limit of 95% CI  Upper Limit of 95% CI Data Comments  \\\n4821                   21.8                   30.1           NaN   \n4822                   23.9                   37.4           NaN   \n4823                   26.0                   37.3           NaN   \n4824                   27.1                   40.0           NaN   \n4825                   24.8                   41.1           NaN   \n\n                     Quartile Data Years  \\\n4821  0 - <   30.3  : Q1 & Q2  2013-2014   \n4822    30.3 - <   32.7  : Q3  2013-2014   \n4823    30.3 - <   32.7  : Q3  2013-2014   \n4824            32.7 +   : Q4  2013-2014   \n4825            32.7 +   : Q4  2013-2014   \n\n                                            Data Source  Mapping Distribution  \\\n4821  NYS Expanded Behavioral Risk Factor Surveillan...                   1.0   \n4822  NYS Expanded Behavioral Risk Factor Surveillan...                   2.0   \n4823  NYS Expanded Behavioral Risk Factor Surveillan...                   2.0   \n4824  NYS Expanded Behavioral Risk Factor Surveillan...                   3.0   \n4825  NYS Expanded Behavioral Risk Factor Surveillan...                   3.0   \n\n                     Location  \n4821  (42.678066, -73.814233)  \n4822  (42.226801, -78.020567)  \n4823  (42.122015, -75.933191)  \n4824  (42.224267, -78.606673)  \n4825  (42.940095, -76.560755)  ",
      "text/html": "<div>\n<style scoped>\n    .dataframe tbody tr th:only-of-type {\n        vertical-align: middle;\n    }\n\n    .dataframe tbody tr th {\n        vertical-align: top;\n    }\n\n    .dataframe thead th {\n        text-align: right;\n    }\n</style>\n<table border=\"1\" class=\"dataframe\">\n  <thead>\n    <tr style=\"text-align: right;\">\n      <th></th>\n      <th>County Name</th>\n      <th>Health Topic Number</th>\n      <th>Health Topic</th>\n      <th>Indicator Number</th>\n      <th>Indicator</th>\n      <th>Event Count</th>\n      <th>Average Number of Denominator</th>\n      <th>Measure Unit</th>\n      <th>Percent/Rate</th>\n      <th>Lower Limit of 95% CI</th>\n      <th>Upper Limit of 95% CI</th>\n      <th>Data Comments</th>\n      <th>Quartile</th>\n      <th>Data Years</th>\n      <th>Data Source</th>\n      <th>Mapping Distribution</th>\n      <th>Location</th>\n    </tr>\n  </thead>\n  <tbody>\n    <tr>\n      <td>4821</td>\n      <td>Albany</td>\n      <td>10</td>\n      <td>Obesity and Related Indicators</td>\n      <td>g75</td>\n      <td>Age-adjusted percentage of adults obese (BMI 3...</td>\n      <td>NaN</td>\n      <td>NaN</td>\n      <td>Percentage</td>\n      <td>26.0</td>\n      <td>21.8</td>\n      <td>30.1</td>\n      <td>NaN</td>\n      <td>0 - &lt;   30.3  : Q1 &amp; Q2</td>\n      <td>2013-2014</td>\n      <td>NYS Expanded Behavioral Risk Factor Surveillan...</td>\n      <td>1.0</td>\n      <td>(42.678066, -73.814233)</td>\n    </tr>\n    <tr>\n      <td>4822</td>\n      <td>Allegany</td>\n      <td>10</td>\n      <td>Obesity and Related Indicators</td>\n      <td>g75</td>\n      <td>Age-adjusted percentage of adults obese (BMI 3...</td>\n      <td>NaN</td>\n      <td>NaN</td>\n      <td>Percentage</td>\n      <td>30.6</td>\n      <td>23.9</td>\n      <td>37.4</td>\n      <td>NaN</td>\n      <td>30.3 - &lt;   32.7  : Q3</td>\n      <td>2013-2014</td>\n      <td>NYS Expanded Behavioral Risk Factor Surveillan...</td>\n      <td>2.0</td>\n      <td>(42.226801, -78.020567)</td>\n    </tr>\n    <tr>\n      <td>4823</td>\n      <td>Broome</td>\n      <td>10</td>\n      <td>Obesity and Related Indicators</td>\n      <td>g75</td>\n      <td>Age-adjusted percentage of adults obese (BMI 3...</td>\n      <td>NaN</td>\n      <td>NaN</td>\n      <td>Percentage</td>\n      <td>31.7</td>\n      <td>26.0</td>\n      <td>37.3</td>\n      <td>NaN</td>\n      <td>30.3 - &lt;   32.7  : Q3</td>\n      <td>2013-2014</td>\n      <td>NYS Expanded Behavioral Risk Factor Surveillan...</td>\n      <td>2.0</td>\n      <td>(42.122015, -75.933191)</td>\n    </tr>\n    <tr>\n      <td>4824</td>\n      <td>Cattaraugus</td>\n      <td>10</td>\n      <td>Obesity and Related Indicators</td>\n      <td>g75</td>\n      <td>Age-adjusted percentage of adults obese (BMI 3...</td>\n      <td>NaN</td>\n      <td>NaN</td>\n      <td>Percentage</td>\n      <td>33.5</td>\n      <td>27.1</td>\n      <td>40.0</td>\n      <td>NaN</td>\n      <td>32.7 +   : Q4</td>\n      <td>2013-2014</td>\n      <td>NYS Expanded Behavioral Risk Factor Surveillan...</td>\n      <td>3.0</td>\n      <td>(42.224267, -78.606673)</td>\n    </tr>\n    <tr>\n      <td>4825</td>\n      <td>Cayuga</td>\n      <td>10</td>\n      <td>Obesity and Related Indicators</td>\n      <td>g75</td>\n      <td>Age-adjusted percentage of adults obese (BMI 3...</td>\n      <td>NaN</td>\n      <td>NaN</td>\n      <td>Percentage</td>\n      <td>33.0</td>\n      <td>24.8</td>\n      <td>41.1</td>\n      <td>NaN</td>\n      <td>32.7 +   : Q4</td>\n      <td>2013-2014</td>\n      <td>NYS Expanded Behavioral Risk Factor Surveillan...</td>\n      <td>3.0</td>\n      <td>(42.940095, -76.560755)</td>\n    </tr>\n  </tbody>\n</table>\n</div>"
     },
     "metadata": {},
     "execution_count": 5
    }
   ],
   "source": [
    "obs_stats=obs_stats[obs_stats['Location'].notna()]\n",
    "obs_stats.head()"
   ]
  },
  {
   "cell_type": "code",
   "execution_count": 6,
   "metadata": {},
   "outputs": [
    {
     "output_type": "execute_result",
     "data": {
      "text/plain": "           County  Percentage\n4821       Albany        26.0\n4822     Allegany        30.6\n4823       Broome        31.7\n4824  Cattaraugus        33.5\n4825       Cayuga        33.0",
      "text/html": "<div>\n<style scoped>\n    .dataframe tbody tr th:only-of-type {\n        vertical-align: middle;\n    }\n\n    .dataframe tbody tr th {\n        vertical-align: top;\n    }\n\n    .dataframe thead th {\n        text-align: right;\n    }\n</style>\n<table border=\"1\" class=\"dataframe\">\n  <thead>\n    <tr style=\"text-align: right;\">\n      <th></th>\n      <th>County</th>\n      <th>Percentage</th>\n    </tr>\n  </thead>\n  <tbody>\n    <tr>\n      <td>4821</td>\n      <td>Albany</td>\n      <td>26.0</td>\n    </tr>\n    <tr>\n      <td>4822</td>\n      <td>Allegany</td>\n      <td>30.6</td>\n    </tr>\n    <tr>\n      <td>4823</td>\n      <td>Broome</td>\n      <td>31.7</td>\n    </tr>\n    <tr>\n      <td>4824</td>\n      <td>Cattaraugus</td>\n      <td>33.5</td>\n    </tr>\n    <tr>\n      <td>4825</td>\n      <td>Cayuga</td>\n      <td>33.0</td>\n    </tr>\n  </tbody>\n</table>\n</div>"
     },
     "metadata": {},
     "execution_count": 6
    }
   ],
   "source": [
    "obs_stats=obs_stats[['County Name','Percent/Rate']]\n",
    "obs_stats=obs_stats.rename(columns={\"County Name\": \"County\",\"Percent/Rate\":\"Percentage\"})\n",
    "obs_stats.head()"
   ]
  },
  {
   "cell_type": "code",
   "execution_count": 7,
   "metadata": {},
   "outputs": [
    {
     "output_type": "execute_result",
     "data": {
      "text/plain": "           County  Percentage\n4821       Albany        26.0\n4822     Allegany        30.6\n4823       Broome        31.7\n4824  Cattaraugus        33.5\n4825       Cayuga        33.0\n...           ...         ...\n4882        Bronx        31.0\n4883        Kings        24.8\n4884     New York        16.8\n4885       Queens        22.1\n4886     Richmond        23.2\n\n[62 rows x 2 columns]",
      "text/html": "<div>\n<style scoped>\n    .dataframe tbody tr th:only-of-type {\n        vertical-align: middle;\n    }\n\n    .dataframe tbody tr th {\n        vertical-align: top;\n    }\n\n    .dataframe thead th {\n        text-align: right;\n    }\n</style>\n<table border=\"1\" class=\"dataframe\">\n  <thead>\n    <tr style=\"text-align: right;\">\n      <th></th>\n      <th>County</th>\n      <th>Percentage</th>\n    </tr>\n  </thead>\n  <tbody>\n    <tr>\n      <td>4821</td>\n      <td>Albany</td>\n      <td>26.0</td>\n    </tr>\n    <tr>\n      <td>4822</td>\n      <td>Allegany</td>\n      <td>30.6</td>\n    </tr>\n    <tr>\n      <td>4823</td>\n      <td>Broome</td>\n      <td>31.7</td>\n    </tr>\n    <tr>\n      <td>4824</td>\n      <td>Cattaraugus</td>\n      <td>33.5</td>\n    </tr>\n    <tr>\n      <td>4825</td>\n      <td>Cayuga</td>\n      <td>33.0</td>\n    </tr>\n    <tr>\n      <td>...</td>\n      <td>...</td>\n      <td>...</td>\n    </tr>\n    <tr>\n      <td>4882</td>\n      <td>Bronx</td>\n      <td>31.0</td>\n    </tr>\n    <tr>\n      <td>4883</td>\n      <td>Kings</td>\n      <td>24.8</td>\n    </tr>\n    <tr>\n      <td>4884</td>\n      <td>New York</td>\n      <td>16.8</td>\n    </tr>\n    <tr>\n      <td>4885</td>\n      <td>Queens</td>\n      <td>22.1</td>\n    </tr>\n    <tr>\n      <td>4886</td>\n      <td>Richmond</td>\n      <td>23.2</td>\n    </tr>\n  </tbody>\n</table>\n<p>62 rows × 2 columns</p>\n</div>"
     },
     "metadata": {},
     "execution_count": 7
    }
   ],
   "source": [
    "obs_stats"
   ]
  },
  {
   "cell_type": "code",
   "execution_count": 8,
   "metadata": {},
   "outputs": [
    {
     "output_type": "execute_result",
     "data": {
      "text/plain": "         County  Percentage\n0        Albany        26.0\n1      Allegany        30.6\n2        Broome        31.7\n3   Cattaraugus        33.5\n4        Cayuga        33.0\n..          ...         ...\n57        Bronx        31.0\n58        Kings        24.8\n59     New York        16.8\n60       Queens        22.1\n61     Richmond        23.2\n\n[62 rows x 2 columns]",
      "text/html": "<div>\n<style scoped>\n    .dataframe tbody tr th:only-of-type {\n        vertical-align: middle;\n    }\n\n    .dataframe tbody tr th {\n        vertical-align: top;\n    }\n\n    .dataframe thead th {\n        text-align: right;\n    }\n</style>\n<table border=\"1\" class=\"dataframe\">\n  <thead>\n    <tr style=\"text-align: right;\">\n      <th></th>\n      <th>County</th>\n      <th>Percentage</th>\n    </tr>\n  </thead>\n  <tbody>\n    <tr>\n      <td>0</td>\n      <td>Albany</td>\n      <td>26.0</td>\n    </tr>\n    <tr>\n      <td>1</td>\n      <td>Allegany</td>\n      <td>30.6</td>\n    </tr>\n    <tr>\n      <td>2</td>\n      <td>Broome</td>\n      <td>31.7</td>\n    </tr>\n    <tr>\n      <td>3</td>\n      <td>Cattaraugus</td>\n      <td>33.5</td>\n    </tr>\n    <tr>\n      <td>4</td>\n      <td>Cayuga</td>\n      <td>33.0</td>\n    </tr>\n    <tr>\n      <td>...</td>\n      <td>...</td>\n      <td>...</td>\n    </tr>\n    <tr>\n      <td>57</td>\n      <td>Bronx</td>\n      <td>31.0</td>\n    </tr>\n    <tr>\n      <td>58</td>\n      <td>Kings</td>\n      <td>24.8</td>\n    </tr>\n    <tr>\n      <td>59</td>\n      <td>New York</td>\n      <td>16.8</td>\n    </tr>\n    <tr>\n      <td>60</td>\n      <td>Queens</td>\n      <td>22.1</td>\n    </tr>\n    <tr>\n      <td>61</td>\n      <td>Richmond</td>\n      <td>23.2</td>\n    </tr>\n  </tbody>\n</table>\n<p>62 rows × 2 columns</p>\n</div>"
     },
     "metadata": {},
     "execution_count": 8
    }
   ],
   "source": [
    "\n",
    "obs_stats.reset_index(drop=True)"
   ]
  },
  {
   "cell_type": "code",
   "execution_count": 9,
   "metadata": {
    "scrolled": true
   },
   "outputs": [],
   "source": [
    "obs_stats.to_csv(\"NY_Stats.csv\",index=False)"
   ]
  },
  {
   "cell_type": "code",
   "execution_count": 10,
   "metadata": {
    "tags": [
     "outputPrepend"
    ]
   },
   "outputs": [
    {
     "output_type": "stream",
     "name": "stdout",
     "text": "[\n  {\n    \"County\": \"Albany\",\n    \"Percentage\": \"26.0\"\n  },\n  {\n    \"County\": \"Allegany\",\n    \"Percentage\": \"30.6\"\n  },\n  {\n    \"County\": \"Broome\",\n    \"Percentage\": \"31.7\"\n  },\n  {\n    \"County\": \"Cattaraugus\",\n    \"Percentage\": \"33.5\"\n  },\n  {\n    \"County\": \"Cayuga\",\n    \"Percentage\": \"33.0\"\n  },\n  {\n    \"County\": \"Chautauqua\",\n    \"Percentage\": \"32.1\"\n  },\n  {\n    \"County\": \"Chemung\",\n    \"Percentage\": \"29.8\"\n  },\n  {\n    \"County\": \"Chenango\",\n    \"Percentage\": \"38.9\"\n  },\n  {\n    \"County\": \"Clinton\",\n    \"Percentage\": \"26.8\"\n  },\n  {\n    \"County\": \"Columbia\",\n    \"Percentage\": \"24.0\"\n  },\n  {\n    \"County\": \"Cortland\",\n    \"Percentage\": \"30.8\"\n  },\n  {\n    \"County\": \"Delaware\",\n    \"Percentage\": \"25.8\"\n  },\n  {\n    \"County\": \"Dutchess\",\n    \"Percentage\": \"25.5\"\n  },\n  {\n    \"County\": \"Erie\",\n    \"Percentage\": \"30.7\"\n  },\n  {\n    \"County\": \"Essex\",\n    \"Percentage\": \"37.0\"\n  },\n  {\n    \"County\": \"Franklin\",\n    \"Percentage\": \"33.4\"\n  },\n  {\n    \"County\": \"Fulton\",\n    \"Percentage\": \"31.4\"\n  },\n  {\n    \"County\": \"Genesee\",\n    \"Percentage\": \"30.8\"\n  },\n  {\n    \"County\": \"Greene\",\n    \"Percentage\": \"31.4\"\n  },\n  {\n    \"County\": \"Hamilton\",\n    \"Percentage\": \"25.9\"\n  },\n  {\n    \"County\": \"Herkimer\",\n    \"Percentage\": \"38.2\"\n  },\n  {\n    \"County\": \"Jefferson\",\n    \"Percentage\": \"31.8\"\n  },\n  {\n    \"County\": \"Lewis\",\n    \"Percentage\": \"33.6\"\n  },\n  {\n    \"County\": \"Livingston\",\n    \"Percentage\": \"32.7\"\n  },\n  {\n    \"County\": \"Madison\",\n    \"Percentage\": \"32.9\"\n  },\n  {\n    \"County\": \"Monroe\",\n    \"Percentage\": \"24.5\"\n  },\n  {\n    \"County\": \"Montgomery\",\n    \"Percentage\": \"30.1\"\n  },\n  {\n    \"County\": \"Nassau\",\n    \"Percentage\": \"20.8\"\n  },\n  {\n    \"County\": \"Niagara\",\n    \"Percentage\": \"30.7\"\n  },\n  {\n    \"County\": \"Oneida\",\n    \"Percentage\": \"36.6\"\n  },\n  {\n    \"County\": \"Onondaga\",\n    \"Percentage\": \"27.9\"\n  },\n  {\n    \"County\": \"Ontario\",\n    \"Percentage\": \"26.8\"\n  },\n  {\n    \"County\": \"Orange\",\n    \"Percentage\": \"32.5\"\n  },\n  {\n    \"County\": \"Orleans\",\n    \"Percentage\": \"38.5\"\n  },\n  {\n    \"County\": \"Oswego\",\n    \"Percentage\": \"33.8\"\n  },\n  {\n    \"County\": \"Otsego\",\n    \"Percentage\": \"25.9\"\n  },\n  {\n    \"County\": \"Putnam\",\n    \"Percentage\": \"20.5\"\n  },\n  {\n    \"County\": \"Rensselaer\",\n    \"Percentage\": \"26.8\"\n  },\n  {\n    \"County\": \"Rockland\",\n    \"Percentage\": \"23.1\"\n  },\n  {\n    \"County\": \"St. Lawrence\",\n    \"Percentage\": \"32.7\"\n  },\n  {\n    \"County\": \"Saratoga\",\n    \"Percentage\": \"25.9\"\n  },\n  {\n    \"County\": \"Schenectady\",\n    \"Percentage\": \"32.8\"\n  },\n  {\n    \"County\": \"Schoharie\",\n    \"Percentage\": \"28.7\"\n  },\n  {\n    \"County\": \"Schuyler\",\n    \"Percentage\": \"22.9\"\n  },\n  {\n    \"County\": \"Seneca\",\n    \"Percentage\": \"28.9\"\n  },\n  {\n    \"County\": \"Steuben\",\n    \"Percentage\": \"32.8\"\n  },\n  {\n    \"County\": \"Suffolk\",\n    \"Percentage\": \"28.4\"\n  },\n  {\n    \"County\": \"Sullivan\",\n    \"Percentage\": \"27.7\"\n  },\n  {\n    \"County\": \"Tioga\",\n    \"Percentage\": \"36.5\"\n  },\n  {\n    \"County\": \"Tompkins\",\n    \"Percentage\": \"21.1\"\n  },\n  {\n    \"County\": \"Ulster\",\n    \"Percentage\": \"26.4\"\n  },\n  {\n    \"County\": \"Warren\",\n    \"Percentage\": \"30.5\"\n  },\n  {\n    \"County\": \"Washington\",\n    \"Percentage\": \"28.4\"\n  },\n  {\n    \"County\": \"Wayne\",\n    \"Percentage\": \"36.8\"\n  },\n  {\n    \"County\": \"Westchester\",\n    \"Percentage\": \"21.0\"\n  },\n  {\n    \"County\": \"Wyoming\",\n    \"Percentage\": \"29.3\"\n  },\n  {\n    \"County\": \"Yates\",\n    \"Percentage\": \"31.9\"\n  },\n  {\n    \"County\": \"Bronx\",\n    \"Percentage\": \"31.0\"\n  },\n  {\n    \"County\": \"Kings\",\n    \"Percentage\": \"24.8\"\n  },\n  {\n    \"County\": \"New York\",\n    \"Percentage\": \"16.8\"\n  },\n  {\n    \"County\": \"Queens\",\n    \"Percentage\": \"22.1\"\n  },\n  {\n    \"County\": \"Richmond\",\n    \"Percentage\": \"23.2\"\n  }\n]\n"
    }
   ],
   "source": [
    "with open(\"NY_Stats.csv\",'r') as f:\n",
    "    reader=csv.DictReader(f)\n",
    "    a=list(reader)\n",
    "    \n",
    "print(json.dumps(a,indent=2))"
   ]
  },
  {
   "cell_type": "code",
   "execution_count": 11,
   "metadata": {},
   "outputs": [],
   "source": [
    "with open('NY_Stats.json','w') as outfile:\n",
    "    json.dump(a,outfile)"
   ]
  },
  {
   "cell_type": "code",
   "execution_count": null,
   "metadata": {},
   "outputs": [],
   "source": []
  },
  {
   "cell_type": "code",
   "execution_count": 12,
   "metadata": {},
   "outputs": [
    {
     "output_type": "error",
     "ename": "KeyError",
     "evalue": "\"['Location'] not in index\"",
     "traceback": [
      "\u001b[1;31m---------------------------------------------------------------------------\u001b[0m",
      "\u001b[1;31mKeyError\u001b[0m                                  Traceback (most recent call last)",
      "\u001b[1;32m<ipython-input-12-1874306e3fae>\u001b[0m in \u001b[0;36m<module>\u001b[1;34m\u001b[0m\n\u001b[1;32m----> 1\u001b[1;33m \u001b[0mgeo_coord\u001b[0m\u001b[1;33m=\u001b[0m\u001b[0mobs_stats\u001b[0m\u001b[1;33m[\u001b[0m\u001b[1;33m[\u001b[0m\u001b[1;34m'County'\u001b[0m\u001b[1;33m,\u001b[0m\u001b[1;34m'Location'\u001b[0m\u001b[1;33m]\u001b[0m\u001b[1;33m]\u001b[0m\u001b[1;33m\u001b[0m\u001b[1;33m\u001b[0m\u001b[0m\n\u001b[0m\u001b[0;32m      2\u001b[0m \u001b[0mgeo_coord\u001b[0m\u001b[1;33m.\u001b[0m\u001b[0mto_csv\u001b[0m\u001b[1;33m(\u001b[0m\u001b[1;34m\"Geo_Loc_Counties.csv\"\u001b[0m\u001b[1;33m,\u001b[0m\u001b[0mindex\u001b[0m\u001b[1;33m=\u001b[0m\u001b[1;32mFalse\u001b[0m\u001b[1;33m)\u001b[0m\u001b[1;33m\u001b[0m\u001b[1;33m\u001b[0m\u001b[0m\n",
      "\u001b[1;32m~\\Anaconda3\\lib\\site-packages\\pandas\\core\\frame.py\u001b[0m in \u001b[0;36m__getitem__\u001b[1;34m(self, key)\u001b[0m\n\u001b[0;32m   2984\u001b[0m             \u001b[1;32mif\u001b[0m \u001b[0mis_iterator\u001b[0m\u001b[1;33m(\u001b[0m\u001b[0mkey\u001b[0m\u001b[1;33m)\u001b[0m\u001b[1;33m:\u001b[0m\u001b[1;33m\u001b[0m\u001b[1;33m\u001b[0m\u001b[0m\n\u001b[0;32m   2985\u001b[0m                 \u001b[0mkey\u001b[0m \u001b[1;33m=\u001b[0m \u001b[0mlist\u001b[0m\u001b[1;33m(\u001b[0m\u001b[0mkey\u001b[0m\u001b[1;33m)\u001b[0m\u001b[1;33m\u001b[0m\u001b[1;33m\u001b[0m\u001b[0m\n\u001b[1;32m-> 2986\u001b[1;33m             \u001b[0mindexer\u001b[0m \u001b[1;33m=\u001b[0m \u001b[0mself\u001b[0m\u001b[1;33m.\u001b[0m\u001b[0mloc\u001b[0m\u001b[1;33m.\u001b[0m\u001b[0m_convert_to_indexer\u001b[0m\u001b[1;33m(\u001b[0m\u001b[0mkey\u001b[0m\u001b[1;33m,\u001b[0m \u001b[0maxis\u001b[0m\u001b[1;33m=\u001b[0m\u001b[1;36m1\u001b[0m\u001b[1;33m,\u001b[0m \u001b[0mraise_missing\u001b[0m\u001b[1;33m=\u001b[0m\u001b[1;32mTrue\u001b[0m\u001b[1;33m)\u001b[0m\u001b[1;33m\u001b[0m\u001b[1;33m\u001b[0m\u001b[0m\n\u001b[0m\u001b[0;32m   2987\u001b[0m \u001b[1;33m\u001b[0m\u001b[0m\n\u001b[0;32m   2988\u001b[0m         \u001b[1;31m# take() does not accept boolean indexers\u001b[0m\u001b[1;33m\u001b[0m\u001b[1;33m\u001b[0m\u001b[1;33m\u001b[0m\u001b[0m\n",
      "\u001b[1;32m~\\Anaconda3\\lib\\site-packages\\pandas\\core\\indexing.py\u001b[0m in \u001b[0;36m_convert_to_indexer\u001b[1;34m(self, obj, axis, is_setter, raise_missing)\u001b[0m\n\u001b[0;32m   1283\u001b[0m                 \u001b[1;31m# When setting, missing keys are not allowed, even with .loc:\u001b[0m\u001b[1;33m\u001b[0m\u001b[1;33m\u001b[0m\u001b[1;33m\u001b[0m\u001b[0m\n\u001b[0;32m   1284\u001b[0m                 \u001b[0mkwargs\u001b[0m \u001b[1;33m=\u001b[0m \u001b[1;33m{\u001b[0m\u001b[1;34m\"raise_missing\"\u001b[0m\u001b[1;33m:\u001b[0m \u001b[1;32mTrue\u001b[0m \u001b[1;32mif\u001b[0m \u001b[0mis_setter\u001b[0m \u001b[1;32melse\u001b[0m \u001b[0mraise_missing\u001b[0m\u001b[1;33m}\u001b[0m\u001b[1;33m\u001b[0m\u001b[1;33m\u001b[0m\u001b[0m\n\u001b[1;32m-> 1285\u001b[1;33m                 \u001b[1;32mreturn\u001b[0m \u001b[0mself\u001b[0m\u001b[1;33m.\u001b[0m\u001b[0m_get_listlike_indexer\u001b[0m\u001b[1;33m(\u001b[0m\u001b[0mobj\u001b[0m\u001b[1;33m,\u001b[0m \u001b[0maxis\u001b[0m\u001b[1;33m,\u001b[0m \u001b[1;33m**\u001b[0m\u001b[0mkwargs\u001b[0m\u001b[1;33m)\u001b[0m\u001b[1;33m[\u001b[0m\u001b[1;36m1\u001b[0m\u001b[1;33m]\u001b[0m\u001b[1;33m\u001b[0m\u001b[1;33m\u001b[0m\u001b[0m\n\u001b[0m\u001b[0;32m   1286\u001b[0m         \u001b[1;32melse\u001b[0m\u001b[1;33m:\u001b[0m\u001b[1;33m\u001b[0m\u001b[1;33m\u001b[0m\u001b[0m\n\u001b[0;32m   1287\u001b[0m             \u001b[1;32mtry\u001b[0m\u001b[1;33m:\u001b[0m\u001b[1;33m\u001b[0m\u001b[1;33m\u001b[0m\u001b[0m\n",
      "\u001b[1;32m~\\Anaconda3\\lib\\site-packages\\pandas\\core\\indexing.py\u001b[0m in \u001b[0;36m_get_listlike_indexer\u001b[1;34m(self, key, axis, raise_missing)\u001b[0m\n\u001b[0;32m   1090\u001b[0m \u001b[1;33m\u001b[0m\u001b[0m\n\u001b[0;32m   1091\u001b[0m         self._validate_read_indexer(\n\u001b[1;32m-> 1092\u001b[1;33m             \u001b[0mkeyarr\u001b[0m\u001b[1;33m,\u001b[0m \u001b[0mindexer\u001b[0m\u001b[1;33m,\u001b[0m \u001b[0mo\u001b[0m\u001b[1;33m.\u001b[0m\u001b[0m_get_axis_number\u001b[0m\u001b[1;33m(\u001b[0m\u001b[0maxis\u001b[0m\u001b[1;33m)\u001b[0m\u001b[1;33m,\u001b[0m \u001b[0mraise_missing\u001b[0m\u001b[1;33m=\u001b[0m\u001b[0mraise_missing\u001b[0m\u001b[1;33m\u001b[0m\u001b[1;33m\u001b[0m\u001b[0m\n\u001b[0m\u001b[0;32m   1093\u001b[0m         )\n\u001b[0;32m   1094\u001b[0m         \u001b[1;32mreturn\u001b[0m \u001b[0mkeyarr\u001b[0m\u001b[1;33m,\u001b[0m \u001b[0mindexer\u001b[0m\u001b[1;33m\u001b[0m\u001b[1;33m\u001b[0m\u001b[0m\n",
      "\u001b[1;32m~\\Anaconda3\\lib\\site-packages\\pandas\\core\\indexing.py\u001b[0m in \u001b[0;36m_validate_read_indexer\u001b[1;34m(self, key, indexer, axis, raise_missing)\u001b[0m\n\u001b[0;32m   1183\u001b[0m             \u001b[1;32mif\u001b[0m \u001b[1;32mnot\u001b[0m \u001b[1;33m(\u001b[0m\u001b[0mself\u001b[0m\u001b[1;33m.\u001b[0m\u001b[0mname\u001b[0m \u001b[1;33m==\u001b[0m \u001b[1;34m\"loc\"\u001b[0m \u001b[1;32mand\u001b[0m \u001b[1;32mnot\u001b[0m \u001b[0mraise_missing\u001b[0m\u001b[1;33m)\u001b[0m\u001b[1;33m:\u001b[0m\u001b[1;33m\u001b[0m\u001b[1;33m\u001b[0m\u001b[0m\n\u001b[0;32m   1184\u001b[0m                 \u001b[0mnot_found\u001b[0m \u001b[1;33m=\u001b[0m \u001b[0mlist\u001b[0m\u001b[1;33m(\u001b[0m\u001b[0mset\u001b[0m\u001b[1;33m(\u001b[0m\u001b[0mkey\u001b[0m\u001b[1;33m)\u001b[0m \u001b[1;33m-\u001b[0m \u001b[0mset\u001b[0m\u001b[1;33m(\u001b[0m\u001b[0max\u001b[0m\u001b[1;33m)\u001b[0m\u001b[1;33m)\u001b[0m\u001b[1;33m\u001b[0m\u001b[1;33m\u001b[0m\u001b[0m\n\u001b[1;32m-> 1185\u001b[1;33m                 \u001b[1;32mraise\u001b[0m \u001b[0mKeyError\u001b[0m\u001b[1;33m(\u001b[0m\u001b[1;34m\"{} not in index\"\u001b[0m\u001b[1;33m.\u001b[0m\u001b[0mformat\u001b[0m\u001b[1;33m(\u001b[0m\u001b[0mnot_found\u001b[0m\u001b[1;33m)\u001b[0m\u001b[1;33m)\u001b[0m\u001b[1;33m\u001b[0m\u001b[1;33m\u001b[0m\u001b[0m\n\u001b[0m\u001b[0;32m   1186\u001b[0m \u001b[1;33m\u001b[0m\u001b[0m\n\u001b[0;32m   1187\u001b[0m             \u001b[1;31m# we skip the warning on Categorical/Interval\u001b[0m\u001b[1;33m\u001b[0m\u001b[1;33m\u001b[0m\u001b[1;33m\u001b[0m\u001b[0m\n",
      "\u001b[1;31mKeyError\u001b[0m: \"['Location'] not in index\""
     ]
    }
   ],
   "source": [
    "geo_coord=obs_stats[['County','Location']]\n",
    "geo_coord.to_csv(\"Geo_Loc_Counties.csv\",index=False)"
   ]
  },
  {
   "cell_type": "code",
   "execution_count": 13,
   "metadata": {},
   "outputs": [
    {
     "output_type": "stream",
     "name": "stdout",
     "text": "[\n  {\n    \"County\": \"Albany\",\n    \"Location\": \"(42.678066, -73.814233)\"\n  },\n  {\n    \"County\": \"Allegany\",\n    \"Location\": \"(42.226801, -78.020567)\"\n  },\n  {\n    \"County\": \"Broome\",\n    \"Location\": \"(42.122015, -75.933191)\"\n  },\n  {\n    \"County\": \"Cattaraugus\",\n    \"Location\": \"(42.224267, -78.606673)\"\n  },\n  {\n    \"County\": \"Cayuga\",\n    \"Location\": \"(42.940095, -76.560755)\"\n  },\n  {\n    \"County\": \"Chautauqua\",\n    \"Location\": \"(42.246904, -79.315313)\"\n  },\n  {\n    \"County\": \"Chemung\",\n    \"Location\": \"(42.116644, -76.812331)\"\n  },\n  {\n    \"County\": \"Chenango\",\n    \"Location\": \"(42.481798, -75.570013)\"\n  },\n  {\n    \"County\": \"Clinton\",\n    \"Location\": \"(44.731944, -73.548883)\"\n  },\n  {\n    \"County\": \"Columbia\",\n    \"Location\": \"(42.276913, -73.682168)\"\n  },\n  {\n    \"County\": \"Cortland\",\n    \"Location\": \"(42.597101, -76.143291)\"\n  },\n  {\n    \"County\": \"Delaware\",\n    \"Location\": \"(42.242972, -74.997944)\"\n  },\n  {\n    \"County\": \"Dutchess\",\n    \"Location\": \"(41.686216, -73.840468)\"\n  },\n  {\n    \"County\": \"Erie\",\n    \"Location\": \"(42.888143, -78.795544)\"\n  },\n  {\n    \"County\": \"Essex\",\n    \"Location\": \"(44.166026, -73.685145)\"\n  },\n  {\n    \"County\": \"Franklin\",\n    \"Location\": \"(44.705699, -74.340621)\"\n  },\n  {\n    \"County\": \"Fulton\",\n    \"Location\": \"(43.06014, -74.331296)\"\n  },\n  {\n    \"County\": \"Genesee\",\n    \"Location\": \"(43.000121, -78.172679)\"\n  },\n  {\n    \"County\": \"Greene\",\n    \"Location\": \"(42.298326, -73.973376)\"\n  },\n  {\n    \"County\": \"Hamilton\",\n    \"Location\": \"(43.618468, -74.395268)\"\n  },\n  {\n    \"County\": \"Herkimer\",\n    \"Location\": \"(43.070026, -74.994246)\"\n  },\n  {\n    \"County\": \"Jefferson\",\n    \"Location\": \"(44.019295, -75.898971)\"\n  },\n  {\n    \"County\": \"Lewis\",\n    \"Location\": \"(43.785537, -75.446296)\"\n  },\n  {\n    \"County\": \"Livingston\",\n    \"Location\": \"(42.763754, -77.765392)\"\n  },\n  {\n    \"County\": \"Madison\",\n    \"Location\": \"(42.986917, -75.720031)\"\n  },\n  {\n    \"County\": \"Monroe\",\n    \"Location\": \"(43.161748, -77.620143)\"\n  },\n  {\n    \"County\": \"Montgomery\",\n    \"Location\": \"(42.933637, -74.341972)\"\n  },\n  {\n    \"County\": \"Nassau\",\n    \"Location\": \"(40.715749, -73.601185)\"\n  },\n  {\n    \"County\": \"Niagara\",\n    \"Location\": \"(43.134634, -78.856419)\"\n  },\n  {\n    \"County\": \"Oneida\",\n    \"Location\": \"(43.149482, -75.361773)\"\n  },\n  {\n    \"County\": \"Onondaga\",\n    \"Location\": \"(43.065629, -76.168033)\"\n  },\n  {\n    \"County\": \"Ontario\",\n    \"Location\": \"(42.894571, -77.252045)\"\n  },\n  {\n    \"County\": \"Orange\",\n    \"Location\": \"(41.422459, -74.241929)\"\n  },\n  {\n    \"County\": \"Orleans\",\n    \"Location\": \"(43.248394, -78.218438)\"\n  },\n  {\n    \"County\": \"Oswego\",\n    \"Location\": \"(43.39123, -76.31133)\"\n  },\n  {\n    \"County\": \"Otsego\",\n    \"Location\": \"(42.564852, -75.060334)\"\n  },\n  {\n    \"County\": \"Putnam\",\n    \"Location\": \"(41.41131, -73.717443)\"\n  },\n  {\n    \"County\": \"Rensselaer\",\n    \"Location\": \"(42.70098, -73.628669)\"\n  },\n  {\n    \"County\": \"Rockland\",\n    \"Location\": \"(41.127287, -74.017033)\"\n  },\n  {\n    \"County\": \"St. Lawrence\",\n    \"Location\": \"(44.689468, -75.242045)\"\n  },\n  {\n    \"County\": \"Saratoga\",\n    \"Location\": \"(43.00894, -73.786779)\"\n  },\n  {\n    \"County\": \"Schenectady\",\n    \"Location\": \"(42.809233, -73.946838)\"\n  },\n  {\n    \"County\": \"Schoharie\",\n    \"Location\": \"(42.643426, -74.434606)\"\n  },\n  {\n    \"County\": \"Schuyler\",\n    \"Location\": \"(42.38593, -76.872032)\"\n  },\n  {\n    \"County\": \"Seneca\",\n    \"Location\": \"(42.833627, -76.82753)\"\n  },\n  {\n    \"County\": \"Steuben\",\n    \"Location\": \"(42.270053, -77.324618)\"\n  },\n  {\n    \"County\": \"Suffolk\",\n    \"Location\": \"(40.820237, -73.119032)\"\n  },\n  {\n    \"County\": \"Sullivan\",\n    \"Location\": \"(41.705166, -74.711705)\"\n  },\n  {\n    \"County\": \"Tioga\",\n    \"Location\": \"(42.120252, -76.29595)\"\n  },\n  {\n    \"County\": \"Tompkins\",\n    \"Location\": \"(42.461024, -76.478784)\"\n  },\n  {\n    \"County\": \"Ulster\",\n    \"Location\": \"(41.848374, -74.099412)\"\n  },\n  {\n    \"County\": \"Warren\",\n    \"Location\": \"(43.403024, -73.716044)\"\n  },\n  {\n    \"County\": \"Washington\",\n    \"Location\": \"(43.289513, -73.454761)\"\n  },\n  {\n    \"County\": \"Wayne\",\n    \"Location\": \"(43.144336, -77.117995)\"\n  },\n  {\n    \"County\": \"Westchester\",\n    \"Location\": \"(41.039278, -73.805386)\"\n  },\n  {\n    \"County\": \"Wyoming\",\n    \"Location\": \"(42.723641, -78.204473)\"\n  },\n  {\n    \"County\": \"Yates\",\n    \"Location\": \"(42.634338, -77.078311)\"\n  },\n  {\n    \"County\": \"Bronx\",\n    \"Location\": \"(40.85589, -73.868294)\"\n  },\n  {\n    \"County\": \"Kings\",\n    \"Location\": \"(40.65642, -73.950691)\"\n  },\n  {\n    \"County\": \"New York\",\n    \"Location\": \"(40.726966, -74.005966)\"\n  },\n  {\n    \"County\": \"Queens\",\n    \"Location\": \"(40.749338, -73.789673)\"\n  },\n  {\n    \"County\": \"Richmond\",\n    \"Location\": \"(40.566763, -74.148102)\"\n  }\n]\n"
    }
   ],
   "source": [
    "with open(\"Geo_Loc_Counties.csv\",'r') as f:\n",
    "    reader=csv.DictReader(f)\n",
    "    b=list(reader)\n",
    "print(json.dumps(b,indent=2))"
   ]
  },
  {
   "cell_type": "code",
   "execution_count": 14,
   "metadata": {},
   "outputs": [],
   "source": [
    "with open('Geo_Loc_Counties.json','w') as outfile:\n",
    "    json.dump(b,outfile)"
   ]
  },
  {
   "cell_type": "code",
   "execution_count": null,
   "metadata": {},
   "outputs": [],
   "source": []
  }
 ],
 "metadata": {
  "kernelspec": {
   "display_name": "Python 3",
   "language": "python",
   "name": "python3"
  },
  "language_info": {
   "codemirror_mode": {
    "name": "ipython",
    "version": 3
   },
   "file_extension": ".py",
   "mimetype": "text/x-python",
   "name": "python",
   "nbconvert_exporter": "python",
   "pygments_lexer": "ipython3",
   "version": "3.7.4-final"
  }
 },
 "nbformat": 4,
 "nbformat_minor": 2
}